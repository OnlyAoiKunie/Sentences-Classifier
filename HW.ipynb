{
  "cells": [
    {
      "cell_type": "code",
      "execution_count": 30,
      "metadata": {
        "colab": {
          "base_uri": "https://localhost:8080/"
        },
        "id": "OIwHl-1GjaLU",
        "outputId": "4c56e8e8-9057-48cf-a6ff-8fe4c161670f"
      },
      "outputs": [
        {
          "output_type": "stream",
          "name": "stdout",
          "text": [
            "Looking in indexes: https://pypi.org/simple, https://us-python.pkg.dev/colab-wheels/public/simple/\n",
            "Requirement already satisfied: transformers in /usr/local/lib/python3.7/dist-packages (4.21.2)\n",
            "Requirement already satisfied: packaging>=20.0 in /usr/local/lib/python3.7/dist-packages (from transformers) (21.3)\n",
            "Requirement already satisfied: regex!=2019.12.17 in /usr/local/lib/python3.7/dist-packages (from transformers) (2022.6.2)\n",
            "Requirement already satisfied: pyyaml>=5.1 in /usr/local/lib/python3.7/dist-packages (from transformers) (6.0)\n",
            "Requirement already satisfied: tqdm>=4.27 in /usr/local/lib/python3.7/dist-packages (from transformers) (4.64.0)\n",
            "Requirement already satisfied: numpy>=1.17 in /usr/local/lib/python3.7/dist-packages (from transformers) (1.21.6)\n",
            "Requirement already satisfied: huggingface-hub<1.0,>=0.1.0 in /usr/local/lib/python3.7/dist-packages (from transformers) (0.9.0)\n",
            "Requirement already satisfied: filelock in /usr/local/lib/python3.7/dist-packages (from transformers) (3.8.0)\n",
            "Requirement already satisfied: requests in /usr/local/lib/python3.7/dist-packages (from transformers) (2.23.0)\n",
            "Requirement already satisfied: tokenizers!=0.11.3,<0.13,>=0.11.1 in /usr/local/lib/python3.7/dist-packages (from transformers) (0.12.1)\n",
            "Requirement already satisfied: importlib-metadata in /usr/local/lib/python3.7/dist-packages (from transformers) (4.12.0)\n",
            "Requirement already satisfied: typing-extensions>=3.7.4.3 in /usr/local/lib/python3.7/dist-packages (from huggingface-hub<1.0,>=0.1.0->transformers) (4.1.1)\n",
            "Requirement already satisfied: pyparsing!=3.0.5,>=2.0.2 in /usr/local/lib/python3.7/dist-packages (from packaging>=20.0->transformers) (3.0.9)\n",
            "Requirement already satisfied: zipp>=0.5 in /usr/local/lib/python3.7/dist-packages (from importlib-metadata->transformers) (3.8.1)\n",
            "Requirement already satisfied: chardet<4,>=3.0.2 in /usr/local/lib/python3.7/dist-packages (from requests->transformers) (3.0.4)\n",
            "Requirement already satisfied: urllib3!=1.25.0,!=1.25.1,<1.26,>=1.21.1 in /usr/local/lib/python3.7/dist-packages (from requests->transformers) (1.24.3)\n",
            "Requirement already satisfied: certifi>=2017.4.17 in /usr/local/lib/python3.7/dist-packages (from requests->transformers) (2022.6.15)\n",
            "Requirement already satisfied: idna<3,>=2.5 in /usr/local/lib/python3.7/dist-packages (from requests->transformers) (2.10)\n"
          ]
        }
      ],
      "source": [
        "!pip install transformers\n",
        "from transformers import BertTokenizer\n",
        "from transformers import BertModel\n",
        "import torch\n",
        "from torch import nn as nn\n",
        "from torch.optim import Adam\n",
        "import numpy as np\n",
        "\n",
        "tokenizer = BertTokenizer.from_pretrained('bert-base-cased')\n",
        "\n",
        "testing_data_path = '/content/drive/MyDrive/test/dialogues_test.txt'\n",
        "training_data_path = '/content/drive/MyDrive/train/dialogues_train.txt'\n",
        "testing_topic_path = '/content/drive/MyDrive/test/dialogues_test_topic.txt'\n",
        "training_topic_path = '/content/drive/MyDrive/train/dialogues_train_topic.txt'\n",
        "\n",
        "class Dataset(torch.utils.data.Dataset): #定義dataset\n",
        "  def __init__(self , data_path , label_path):\n",
        "    super().__init__()\n",
        "    train_txt = open(data_path,'r').readlines()\n",
        "    train_label_txt = open(label_path,'r').readlines()\n",
        "    self.train_data = []\n",
        "    self.train_label = []\n",
        "    for turns in train_txt:\n",
        "      sentense = turns.replace('\\n','').replace('__eou__' , '')\n",
        "      self.train_data.append(sentense)\n",
        "    for turns in train_label_txt:\n",
        "      label = turns.replace('\\n' , '')\n",
        "      self.train_label.append(int(label) - 1)\n",
        "  def __len__(self):\n",
        "    return len(self.train_data)\n",
        "\n",
        "  def __getitem__(self,idx):\n",
        "    trainData = self.train_data[idx]\n",
        "    trainLabel = np.array(self.train_label[idx])\n",
        "    bert_input = tokenizer(trainData,padding='max_length', max_length = 100, truncation=True, return_tensors=\"pt\")\n",
        "    return bert_input , trainLabel\n",
        "\n",
        "class Classifier(nn.Module):\n",
        "  def __init__(self):\n",
        "    super(Classifier , self).__init__()\n",
        "    self.bert = BertModel.from_pretrained('bert-base-cased')\n",
        "    self.drop = nn.Dropout(0.1)\n",
        "    self.linear = nn.Linear(768, 10)\n",
        "    self.relu = nn.ReLU()\n",
        "\n",
        "  def forward(self , input_id , mask):\n",
        "    _,output = self.bert(input_ids= input_id, attention_mask=mask,return_dict=False)\n",
        "    output = self.drop(output)\n",
        "    output = self.linear(output)\n",
        "    output = self.relu(output)\n",
        "    return output\n",
        "\n",
        "\n",
        "  \n",
        "\n",
        "\n",
        "\n",
        "\n",
        "\n"
      ]
    },
    {
      "cell_type": "code",
      "source": [
        "from tqdm import tqdm\n",
        "def train(model,train_data , lr , epochs):\n",
        "  train_dataloader = torch.utils.data.DataLoader(train_data, batch_size=32, shuffle=True)\n",
        "  loss = nn.CrossEntropyLoss()\n",
        "  optimizer = Adam(model.parameters(), lr= 1e-6)\n",
        "  device = torch.device(\"cuda\" if torch.cuda.is_available() else \"cpu\")\n",
        "\n",
        "  if torch.cuda.is_available():\n",
        "    model = model.cuda()\n",
        "    loss = loss.cuda()\n",
        "  \n",
        "  for epoch_num in range(epochs):\n",
        "    total_acc_train = 0\n",
        "    total_loss_train = 0\n",
        "    for train_input, train_label in tqdm(train_dataloader): #每次拿出32筆資料\n",
        "      train_label = train_label.to(device)\n",
        "      mask = train_input['attention_mask'].to(device)\n",
        "      input_id = train_input['input_ids'].squeeze(1).to(device)\n",
        "\n",
        "      output = model(input_id, mask)\n",
        "      batch_loss = loss(output, train_label.long()) #算出loss\n",
        "      total_loss_train += batch_loss.item()          \n",
        "      acc = (output.argmax(dim=1) == train_label).sum().item()\n",
        "      total_acc_train += acc\n",
        "      model.zero_grad()\n",
        "      batch_loss.backward()\n",
        "      optimizer.step()\n",
        "\n",
        "  print(f'Epochs: {epoch_num + 1} | Train Loss: {total_loss_train / len(train_data): .3f} \\| Train Accuracy: {total_acc_train / len(train_data): .3f}')\n",
        "  \n",
        "\n",
        "\n",
        "\n",
        "model = Classifier()\n",
        "LR = 1e-6\n",
        "EPOCH = 10\n",
        "train_data = Dataset(training_data_path , training_topic_path)\n",
        "train(model,train_data, LR , EPOCH)"
      ],
      "metadata": {
        "colab": {
          "base_uri": "https://localhost:8080/"
        },
        "id": "WQiDNhXymtot",
        "outputId": "b4eba930-9120-40fa-c9f2-b0deeb675f9e"
      },
      "execution_count": 31,
      "outputs": [
        {
          "output_type": "stream",
          "name": "stderr",
          "text": [
            "Some weights of the model checkpoint at bert-base-cased were not used when initializing BertModel: ['cls.predictions.transform.LayerNorm.weight', 'cls.predictions.bias', 'cls.seq_relationship.bias', 'cls.predictions.transform.dense.weight', 'cls.predictions.transform.LayerNorm.bias', 'cls.predictions.decoder.weight', 'cls.seq_relationship.weight', 'cls.predictions.transform.dense.bias']\n",
            "- This IS expected if you are initializing BertModel from the checkpoint of a model trained on another task or with another architecture (e.g. initializing a BertForSequenceClassification model from a BertForPreTraining model).\n",
            "- This IS NOT expected if you are initializing BertModel from the checkpoint of a model that you expect to be exactly identical (initializing a BertForSequenceClassification model from a BertForSequenceClassification model).\n",
            "100%|██████████| 328/328 [03:13<00:00,  1.69it/s]\n",
            "100%|██████████| 328/328 [03:16<00:00,  1.67it/s]\n",
            "100%|██████████| 328/328 [03:16<00:00,  1.67it/s]\n",
            "100%|██████████| 328/328 [03:15<00:00,  1.68it/s]\n",
            "100%|██████████| 328/328 [03:15<00:00,  1.68it/s]\n",
            "100%|██████████| 328/328 [03:14<00:00,  1.68it/s]\n",
            "100%|██████████| 328/328 [03:14<00:00,  1.69it/s]\n",
            "100%|██████████| 328/328 [03:14<00:00,  1.69it/s]\n",
            "100%|██████████| 328/328 [03:16<00:00,  1.67it/s]\n",
            "100%|██████████| 328/328 [03:16<00:00,  1.67it/s]"
          ]
        },
        {
          "output_type": "stream",
          "name": "stdout",
          "text": [
            "Epochs: 10 | Train Loss:  0.027 \\| Train Accuracy:  0.757\n"
          ]
        },
        {
          "output_type": "stream",
          "name": "stderr",
          "text": [
            "\n"
          ]
        }
      ]
    },
    {
      "cell_type": "code",
      "source": [
        "cm = np.zeros([10,10])\n",
        "def evaluate(model, test_data):\n",
        "\n",
        "    test_dataloader = torch.utils.data.DataLoader(test_data, batch_size=64)\n",
        "\n",
        "    use_cuda = torch.cuda.is_available()\n",
        "    device = torch.device(\"cuda\" if use_cuda else \"cpu\")\n",
        "\n",
        "    if use_cuda:\n",
        "\n",
        "        model = model.cuda()\n",
        "    \n",
        "    total_acc_test = 0\n",
        "    with torch.no_grad():\n",
        "\n",
        "      for test_input, test_label in test_dataloader:\n",
        "\n",
        "        test_label = test_label.to(device)\n",
        "        mask = test_input['attention_mask'].to(device)\n",
        "        input_id = test_input['input_ids'].squeeze(1).to(device)\n",
        "\n",
        "        output = model(input_id, mask)\n",
        "        acc = (output.argmax(dim=1) == test_label).sum().item()\n",
        "        for i in range(64):\n",
        "          cm[output.argmax(dim=1)[i].item()][test_label[i].item()] += 1\n",
        "        total_acc_test += acc\n",
        "\n",
        "    \n",
        "    print(f'Test Accuracy: {total_acc_test / len(test_data): .3f}')\n",
        "\n",
        "test_data = Dataset(testing_data_path , testing_topic_path)\n",
        "evaluate(model, test_data)\n",
        "print(\"Confusion Matrix\\n\" , cm)\n",
        "\n",
        "\n"
      ],
      "metadata": {
        "colab": {
          "base_uri": "https://localhost:8080/"
        },
        "id": "dAngIPK4LmXE",
        "outputId": "597168f2-4126-4a25-9184-ba9c2eebc35e"
      },
      "execution_count": 32,
      "outputs": [
        {
          "output_type": "stream",
          "name": "stdout",
          "text": [
            "Test Accuracy:  0.696\n",
            "Confusion Matrix\n",
            " [[583.  15.   0.  24. 122.  40.   9.  18.   5.   2.]\n",
            " [  1.  19.   0.   1.   1.   0.   1.   1.   0.   0.]\n",
            " [  0.   0.   0.   0.   0.   0.   0.   0.   0.   0.]\n",
            " [  0.   0.   0.   0.   0.   0.   2.   0.   0.   0.]\n",
            " [ 94.  53.  12.  94. 690.  24.  34.  38.  16.   3.]\n",
            " [ 26.   1.   0.   3.   9. 148.   0.  10.   0.   0.]\n",
            " [  0.   0.   0.   0.   0.   0.   0.   0.   0.   0.]\n",
            " [ 22.   9.   0.  11.  54.   1.   2. 314.   2.  22.]\n",
            " [  0.   0.   0.   0.   0.   0.   3.   0.   1.   0.]\n",
            " [  4.   0.   0.   0.   1.   1.   1.   4.   3.  70.]]\n"
          ]
        }
      ]
    }
  ],
  "metadata": {
    "colab": {
      "collapsed_sections": [],
      "name": "HW.ipynb",
      "provenance": []
    },
    "kernelspec": {
      "display_name": "Python 3",
      "name": "python3"
    },
    "language_info": {
      "name": "python"
    },
    "accelerator": "GPU",
    "gpuClass": "standard"
  },
  "nbformat": 4,
  "nbformat_minor": 0
}